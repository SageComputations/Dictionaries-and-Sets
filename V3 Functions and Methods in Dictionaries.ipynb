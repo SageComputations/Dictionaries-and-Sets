{
 "cells": [
  {
   "cell_type": "code",
   "execution_count": 30,
   "id": "392ee50c",
   "metadata": {},
   "outputs": [
    {
     "data": {
      "text/plain": [
       "{'Car owner': 'Anand',\n",
       " 'Car model': 'XUV 700',\n",
       " 'Car price': 2300000,\n",
       " 'Engine displacement': 2000}"
      ]
     },
     "execution_count": 30,
     "metadata": {},
     "output_type": "execute_result"
    }
   ],
   "source": [
    "car_details = {'Car owner':'Anand',\n",
    "              'Car model':'XUV 700',\n",
    "              'Car price':2300000,\n",
    "              'Engine displacement':2000}\n",
    "\n",
    "car_details"
   ]
  },
  {
   "cell_type": "markdown",
   "id": "db1133f3",
   "metadata": {},
   "source": [
    "# 1.  Len()"
   ]
  },
  {
   "cell_type": "code",
   "execution_count": 2,
   "id": "45b30c83",
   "metadata": {},
   "outputs": [
    {
     "data": {
      "text/plain": [
       "4"
      ]
     },
     "execution_count": 2,
     "metadata": {},
     "output_type": "execute_result"
    }
   ],
   "source": [
    "len(car_details)"
   ]
  },
  {
   "cell_type": "code",
   "execution_count": 4,
   "id": "6ef43b47",
   "metadata": {},
   "outputs": [
    {
     "data": {
      "text/plain": [
       "4"
      ]
     },
     "execution_count": 4,
     "metadata": {},
     "output_type": "execute_result"
    }
   ],
   "source": [
    "len(car_details.keys())"
   ]
  },
  {
   "cell_type": "code",
   "execution_count": 5,
   "id": "f68a58ef",
   "metadata": {},
   "outputs": [
    {
     "data": {
      "text/plain": [
       "4"
      ]
     },
     "execution_count": 5,
     "metadata": {},
     "output_type": "execute_result"
    }
   ],
   "source": [
    "len(car_details.values())"
   ]
  },
  {
   "cell_type": "markdown",
   "id": "086e0964",
   "metadata": {},
   "source": [
    "# 2. Sorted - Ascending"
   ]
  },
  {
   "cell_type": "code",
   "execution_count": 8,
   "id": "facac500",
   "metadata": {},
   "outputs": [
    {
     "data": {
      "text/plain": [
       "['Car model', 'Car owner', 'Car price', 'Engine displacement']"
      ]
     },
     "execution_count": 8,
     "metadata": {},
     "output_type": "execute_result"
    }
   ],
   "source": [
    "sorted(car_details)"
   ]
  },
  {
   "cell_type": "markdown",
   "id": "887e7624",
   "metadata": {},
   "source": [
    "# 3. Sorted Reverse - descending"
   ]
  },
  {
   "cell_type": "code",
   "execution_count": 9,
   "id": "bd4e8216",
   "metadata": {},
   "outputs": [
    {
     "data": {
      "text/plain": [
       "['Engine displacement', 'Car price', 'Car owner', 'Car model']"
      ]
     },
     "execution_count": 9,
     "metadata": {},
     "output_type": "execute_result"
    }
   ],
   "source": [
    "sorted(car_details, reverse = True)"
   ]
  },
  {
   "cell_type": "code",
   "execution_count": 31,
   "id": "a1c33cd6",
   "metadata": {},
   "outputs": [
    {
     "ename": "TypeError",
     "evalue": "'<' not supported between instances of 'int' and 'str'",
     "output_type": "error",
     "traceback": [
      "\u001b[1;31m---------------------------------------------------------------------------\u001b[0m",
      "\u001b[1;31mTypeError\u001b[0m                                 Traceback (most recent call last)",
      "Input \u001b[1;32mIn [31]\u001b[0m, in \u001b[0;36m<cell line: 1>\u001b[1;34m()\u001b[0m\n\u001b[1;32m----> 1\u001b[0m \u001b[38;5;28;43msorted\u001b[39;49m\u001b[43m(\u001b[49m\u001b[43mcar_details\u001b[49m\u001b[38;5;241;43m.\u001b[39;49m\u001b[43mvalues\u001b[49m\u001b[43m(\u001b[49m\u001b[43m)\u001b[49m\u001b[43m)\u001b[49m\n",
      "\u001b[1;31mTypeError\u001b[0m: '<' not supported between instances of 'int' and 'str'"
     ]
    }
   ],
   "source": [
    "sorted(car_details.values())"
   ]
  },
  {
   "cell_type": "markdown",
   "id": "4105a388",
   "metadata": {},
   "source": [
    "# 4. items()"
   ]
  },
  {
   "cell_type": "code",
   "execution_count": 15,
   "id": "8d34abd5",
   "metadata": {},
   "outputs": [
    {
     "data": {
      "text/plain": [
       "dict_items([('Car owner', 'Anand'), ('Car model', 'XUV 700'), ('Car price', 2300000), ('Engine displacement', 2000)])"
      ]
     },
     "execution_count": 15,
     "metadata": {},
     "output_type": "execute_result"
    }
   ],
   "source": [
    "car_details.items() #Will return key value pairs in the form of tuples"
   ]
  },
  {
   "cell_type": "markdown",
   "id": "1e138883",
   "metadata": {},
   "source": [
    "# 5. copy()"
   ]
  },
  {
   "cell_type": "code",
   "execution_count": 16,
   "id": "e1d3eea8",
   "metadata": {},
   "outputs": [],
   "source": [
    "copy_car_details = car_details.copy()"
   ]
  },
  {
   "cell_type": "code",
   "execution_count": 17,
   "id": "fca46a20",
   "metadata": {},
   "outputs": [
    {
     "data": {
      "text/plain": [
       "{'Car owner': 'Anand',\n",
       " 'Car model': 'XUV 700',\n",
       " 'Car price': 2300000,\n",
       " 'Engine displacement': 2000}"
      ]
     },
     "execution_count": 17,
     "metadata": {},
     "output_type": "execute_result"
    }
   ],
   "source": [
    "copy_car_details"
   ]
  },
  {
   "cell_type": "code",
   "execution_count": 18,
   "id": "28935bf7",
   "metadata": {},
   "outputs": [
    {
     "data": {
      "text/plain": [
       "2000"
      ]
     },
     "execution_count": 18,
     "metadata": {},
     "output_type": "execute_result"
    }
   ],
   "source": [
    "copy_car_details.pop('Engine displacement')"
   ]
  },
  {
   "cell_type": "code",
   "execution_count": 19,
   "id": "0aef2679",
   "metadata": {},
   "outputs": [
    {
     "data": {
      "text/plain": [
       "{'Car owner': 'Anand', 'Car model': 'XUV 700', 'Car price': 2300000}"
      ]
     },
     "execution_count": 19,
     "metadata": {},
     "output_type": "execute_result"
    }
   ],
   "source": [
    "copy_car_details"
   ]
  },
  {
   "cell_type": "code",
   "execution_count": 20,
   "id": "866febc5",
   "metadata": {},
   "outputs": [
    {
     "data": {
      "text/plain": [
       "{'Car owner': 'Anand',\n",
       " 'Car model': 'XUV 700',\n",
       " 'Car price': 2300000,\n",
       " 'Engine displacement': 2000}"
      ]
     },
     "execution_count": 20,
     "metadata": {},
     "output_type": "execute_result"
    }
   ],
   "source": [
    "car_details"
   ]
  },
  {
   "cell_type": "code",
   "execution_count": 21,
   "id": "bd2b841d",
   "metadata": {},
   "outputs": [
    {
     "ename": "KeyError",
     "evalue": "'Engine displacement'",
     "output_type": "error",
     "traceback": [
      "\u001b[1;31m---------------------------------------------------------------------------\u001b[0m",
      "\u001b[1;31mKeyError\u001b[0m                                  Traceback (most recent call last)",
      "Input \u001b[1;32mIn [21]\u001b[0m, in \u001b[0;36m<cell line: 1>\u001b[1;34m()\u001b[0m\n\u001b[1;32m----> 1\u001b[0m \u001b[43mcopy_car_details\u001b[49m\u001b[38;5;241;43m.\u001b[39;49m\u001b[43mpop\u001b[49m\u001b[43m(\u001b[49m\u001b[38;5;124;43m'\u001b[39;49m\u001b[38;5;124;43mEngine displacement\u001b[39;49m\u001b[38;5;124;43m'\u001b[39;49m\u001b[43m)\u001b[49m\n",
      "\u001b[1;31mKeyError\u001b[0m: 'Engine displacement'"
     ]
    }
   ],
   "source": [
    "copy_car_details.pop('Engine displacement')"
   ]
  },
  {
   "cell_type": "code",
   "execution_count": 22,
   "id": "97310cd1",
   "metadata": {},
   "outputs": [
    {
     "data": {
      "text/plain": [
       "('Car price', 2300000)"
      ]
     },
     "execution_count": 22,
     "metadata": {},
     "output_type": "execute_result"
    }
   ],
   "source": [
    "copy_car_details.popitem() #can remove any item at random"
   ]
  },
  {
   "cell_type": "code",
   "execution_count": 23,
   "id": "75905297",
   "metadata": {},
   "outputs": [
    {
     "data": {
      "text/plain": [
       "{'Car owner': 'Anand', 'Car model': 'XUV 700'}"
      ]
     },
     "execution_count": 23,
     "metadata": {},
     "output_type": "execute_result"
    }
   ],
   "source": [
    "copy_car_details"
   ]
  },
  {
   "cell_type": "markdown",
   "id": "4568a436",
   "metadata": {},
   "source": [
    "# 6. update()"
   ]
  },
  {
   "cell_type": "code",
   "execution_count": 24,
   "id": "2e83370d",
   "metadata": {},
   "outputs": [],
   "source": [
    "dict_age = {'Simran':22,'Sakshi':24}\n",
    "\n",
    "new_dict_age = {'Simran':23,'Amit':19}"
   ]
  },
  {
   "cell_type": "code",
   "execution_count": 25,
   "id": "d636a504",
   "metadata": {},
   "outputs": [
    {
     "data": {
      "text/plain": [
       "{'Simran': 23, 'Sakshi': 24, 'Amit': 19}"
      ]
     },
     "execution_count": 25,
     "metadata": {},
     "output_type": "execute_result"
    }
   ],
   "source": [
    "dict_age.update(new_dict_age)\n",
    "\n",
    "dict_age"
   ]
  },
  {
   "cell_type": "markdown",
   "id": "cefd72bb",
   "metadata": {},
   "source": [
    "# 7. clear()"
   ]
  },
  {
   "cell_type": "code",
   "execution_count": 26,
   "id": "8c45d9b1",
   "metadata": {},
   "outputs": [],
   "source": [
    "car_details.clear()"
   ]
  },
  {
   "cell_type": "code",
   "execution_count": 27,
   "id": "8d599d9d",
   "metadata": {},
   "outputs": [
    {
     "data": {
      "text/plain": [
       "{}"
      ]
     },
     "execution_count": 27,
     "metadata": {},
     "output_type": "execute_result"
    }
   ],
   "source": [
    "car_details"
   ]
  },
  {
   "cell_type": "markdown",
   "id": "c992a078",
   "metadata": {},
   "source": [
    "# 8. del"
   ]
  },
  {
   "cell_type": "code",
   "execution_count": 28,
   "id": "614bcb0b",
   "metadata": {},
   "outputs": [],
   "source": [
    "del copy_car_details"
   ]
  },
  {
   "cell_type": "code",
   "execution_count": 29,
   "id": "19307c1e",
   "metadata": {},
   "outputs": [
    {
     "ename": "NameError",
     "evalue": "name 'copy_car_details' is not defined",
     "output_type": "error",
     "traceback": [
      "\u001b[1;31m---------------------------------------------------------------------------\u001b[0m",
      "\u001b[1;31mNameError\u001b[0m                                 Traceback (most recent call last)",
      "Input \u001b[1;32mIn [29]\u001b[0m, in \u001b[0;36m<cell line: 1>\u001b[1;34m()\u001b[0m\n\u001b[1;32m----> 1\u001b[0m \u001b[43mcopy_car_details\u001b[49m\n",
      "\u001b[1;31mNameError\u001b[0m: name 'copy_car_details' is not defined"
     ]
    }
   ],
   "source": [
    "copy_car_details"
   ]
  },
  {
   "cell_type": "code",
   "execution_count": null,
   "id": "0e6f43ea",
   "metadata": {},
   "outputs": [],
   "source": []
  }
 ],
 "metadata": {
  "kernelspec": {
   "display_name": "Python 3 (ipykernel)",
   "language": "python",
   "name": "python3"
  },
  "language_info": {
   "codemirror_mode": {
    "name": "ipython",
    "version": 3
   },
   "file_extension": ".py",
   "mimetype": "text/x-python",
   "name": "python",
   "nbconvert_exporter": "python",
   "pygments_lexer": "ipython3",
   "version": "3.9.12"
  }
 },
 "nbformat": 4,
 "nbformat_minor": 5
}
