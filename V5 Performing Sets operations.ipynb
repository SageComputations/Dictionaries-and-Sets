{
 "cells": [
  {
   "cell_type": "code",
   "execution_count": 1,
   "id": "4ac2bd04",
   "metadata": {},
   "outputs": [],
   "source": [
    "number_1 = {1,2,3,4,5}\n",
    "number_2 = {4,5,6,7,8}\n",
    "number_3 = {7,8,9,10,11}"
   ]
  },
  {
   "cell_type": "markdown",
   "id": "2a0524c7",
   "metadata": {},
   "source": [
    "# 1. Union"
   ]
  },
  {
   "cell_type": "code",
   "execution_count": 2,
   "id": "a587efee",
   "metadata": {},
   "outputs": [
    {
     "data": {
      "text/plain": [
       "{1, 2, 3, 4, 5, 6, 7, 8}"
      ]
     },
     "execution_count": 2,
     "metadata": {},
     "output_type": "execute_result"
    }
   ],
   "source": [
    "number_1.union(number_2)"
   ]
  },
  {
   "cell_type": "code",
   "execution_count": 3,
   "id": "c24701bd",
   "metadata": {},
   "outputs": [
    {
     "data": {
      "text/plain": [
       "{1, 2, 3, 4, 5, 6, 7, 8, 9, 10, 11}"
      ]
     },
     "execution_count": 3,
     "metadata": {},
     "output_type": "execute_result"
    }
   ],
   "source": [
    "number_union = number_1.union(number_2,number_3)\n",
    "\n",
    "number_union"
   ]
  },
  {
   "cell_type": "code",
   "execution_count": 4,
   "id": "070c71a4",
   "metadata": {},
   "outputs": [],
   "source": [
    "student_set1 = {'Sonam','Ali','Simran'}\n",
    "student_set2 = {'Simran','Amit','Sakshi'}\n",
    "student_set3 = {'Sakshi','Anand','Jack'}"
   ]
  },
  {
   "cell_type": "code",
   "execution_count": 5,
   "id": "04f016f4",
   "metadata": {},
   "outputs": [
    {
     "data": {
      "text/plain": [
       "{'Ali', 'Amit', 'Anand', 'Jack', 'Sakshi', 'Simran', 'Sonam'}"
      ]
     },
     "execution_count": 5,
     "metadata": {},
     "output_type": "execute_result"
    }
   ],
   "source": [
    "student_set1.union(student_set2,student_set3)"
   ]
  },
  {
   "cell_type": "markdown",
   "id": "6999d7c6",
   "metadata": {},
   "source": [
    "# 2. Intersection - finds the common element between two sets"
   ]
  },
  {
   "cell_type": "code",
   "execution_count": 6,
   "id": "345e671c",
   "metadata": {},
   "outputs": [
    {
     "name": "stdout",
     "output_type": "stream",
     "text": [
      "{1, 2, 3, 4, 5}\n",
      "{4, 5, 6, 7, 8}\n",
      "{7, 8, 9, 10, 11}\n"
     ]
    }
   ],
   "source": [
    "print(number_1)\n",
    "print(number_2)\n",
    "print(number_3)"
   ]
  },
  {
   "cell_type": "code",
   "execution_count": 7,
   "id": "64c4abd5",
   "metadata": {},
   "outputs": [
    {
     "data": {
      "text/plain": [
       "{4, 5}"
      ]
     },
     "execution_count": 7,
     "metadata": {},
     "output_type": "execute_result"
    }
   ],
   "source": [
    "number_2.intersection(number_1)"
   ]
  },
  {
   "cell_type": "markdown",
   "id": "fca0fbdd",
   "metadata": {},
   "source": [
    "# 3. Difference - Common elements between set1 and set 2 are removed"
   ]
  },
  {
   "cell_type": "code",
   "execution_count": 8,
   "id": "456971d0",
   "metadata": {},
   "outputs": [
    {
     "name": "stdout",
     "output_type": "stream",
     "text": [
      "{1, 2, 3, 4, 5}\n",
      "{4, 5, 6, 7, 8}\n",
      "{7, 8, 9, 10, 11}\n"
     ]
    }
   ],
   "source": [
    "print(number_1)\n",
    "print(number_2)\n",
    "print(number_3)"
   ]
  },
  {
   "cell_type": "code",
   "execution_count": 9,
   "id": "3fb4ef03",
   "metadata": {},
   "outputs": [
    {
     "data": {
      "text/plain": [
       "{1, 2, 3}"
      ]
     },
     "execution_count": 9,
     "metadata": {},
     "output_type": "execute_result"
    }
   ],
   "source": [
    "number_1.difference(number_2)"
   ]
  },
  {
   "cell_type": "code",
   "execution_count": 10,
   "id": "89916113",
   "metadata": {},
   "outputs": [],
   "source": [
    "diff_set = student_set1.difference(student_set2)"
   ]
  },
  {
   "cell_type": "code",
   "execution_count": 11,
   "id": "9fc9bd43",
   "metadata": {},
   "outputs": [
    {
     "data": {
      "text/plain": [
       "{'Ali', 'Sonam'}"
      ]
     },
     "execution_count": 11,
     "metadata": {},
     "output_type": "execute_result"
    }
   ],
   "source": [
    "diff_set"
   ]
  },
  {
   "cell_type": "markdown",
   "id": "829148d2",
   "metadata": {},
   "source": [
    "# 4. Intersection_update - will perform the intersection between two sets and the updated results will be stored in set 1"
   ]
  },
  {
   "cell_type": "code",
   "execution_count": 12,
   "id": "7a258f65",
   "metadata": {},
   "outputs": [
    {
     "name": "stdout",
     "output_type": "stream",
     "text": [
      "{1, 2, 3, 4, 5}\n",
      "{4, 5, 6, 7, 8}\n"
     ]
    }
   ],
   "source": [
    "print(number_1)\n",
    "print(number_2)"
   ]
  },
  {
   "cell_type": "code",
   "execution_count": 13,
   "id": "238bec0b",
   "metadata": {},
   "outputs": [],
   "source": [
    "number_1.intersection_update(number_2)"
   ]
  },
  {
   "cell_type": "code",
   "execution_count": 14,
   "id": "1a49f55f",
   "metadata": {},
   "outputs": [
    {
     "data": {
      "text/plain": [
       "{4, 5}"
      ]
     },
     "execution_count": 14,
     "metadata": {},
     "output_type": "execute_result"
    }
   ],
   "source": [
    "number_1"
   ]
  },
  {
   "cell_type": "code",
   "execution_count": 15,
   "id": "bc50dfff",
   "metadata": {},
   "outputs": [
    {
     "data": {
      "text/plain": [
       "{4, 5, 6, 7, 8}"
      ]
     },
     "execution_count": 15,
     "metadata": {},
     "output_type": "execute_result"
    }
   ],
   "source": [
    "number_2"
   ]
  },
  {
   "cell_type": "code",
   "execution_count": 16,
   "id": "1003468e",
   "metadata": {},
   "outputs": [
    {
     "data": {
      "text/plain": [
       "({'Ali', 'Simran', 'Sonam'},\n",
       " {'Amit', 'Sakshi', 'Simran'},\n",
       " {'Anand', 'Jack', 'Sakshi'})"
      ]
     },
     "execution_count": 16,
     "metadata": {},
     "output_type": "execute_result"
    }
   ],
   "source": [
    "student_set1, student_set2, student_set3"
   ]
  },
  {
   "cell_type": "code",
   "execution_count": 17,
   "id": "f37e6982",
   "metadata": {},
   "outputs": [],
   "source": [
    "student_set1.intersection_update(student_set2)"
   ]
  },
  {
   "cell_type": "code",
   "execution_count": 18,
   "id": "35247030",
   "metadata": {},
   "outputs": [
    {
     "data": {
      "text/plain": [
       "{'Simran'}"
      ]
     },
     "execution_count": 18,
     "metadata": {},
     "output_type": "execute_result"
    }
   ],
   "source": [
    "student_set1"
   ]
  },
  {
   "cell_type": "code",
   "execution_count": 19,
   "id": "8b8ff0ce",
   "metadata": {},
   "outputs": [
    {
     "data": {
      "text/plain": [
       "{'Amit', 'Sakshi', 'Simran'}"
      ]
     },
     "execution_count": 19,
     "metadata": {},
     "output_type": "execute_result"
    }
   ],
   "source": [
    "student_set2"
   ]
  },
  {
   "cell_type": "markdown",
   "id": "5d091743",
   "metadata": {},
   "source": [
    "# 5. Difference_update - will perform the difference between two sets and the updated results will be stored in set 1"
   ]
  },
  {
   "cell_type": "code",
   "execution_count": 20,
   "id": "ed154c0b",
   "metadata": {},
   "outputs": [],
   "source": [
    "student_set1 = {'Sonam','Ali','Simran'}\n",
    "student_set2 = {'Simran','Amit','Sakshi'}"
   ]
  },
  {
   "cell_type": "code",
   "execution_count": 21,
   "id": "93d163a5",
   "metadata": {},
   "outputs": [],
   "source": [
    "student_set1.difference_update(student_set2)"
   ]
  },
  {
   "cell_type": "code",
   "execution_count": 22,
   "id": "200e91c8",
   "metadata": {},
   "outputs": [
    {
     "data": {
      "text/plain": [
       "{'Ali', 'Sonam'}"
      ]
     },
     "execution_count": 22,
     "metadata": {},
     "output_type": "execute_result"
    }
   ],
   "source": [
    "student_set1"
   ]
  },
  {
   "cell_type": "markdown",
   "id": "0f71c707",
   "metadata": {},
   "source": [
    "# 6. isdisjoint - whether two sets contain elements in common or not"
   ]
  },
  {
   "cell_type": "code",
   "execution_count": 24,
   "id": "f03e090d",
   "metadata": {},
   "outputs": [
    {
     "data": {
      "text/plain": [
       "True"
      ]
     },
     "execution_count": 24,
     "metadata": {},
     "output_type": "execute_result"
    }
   ],
   "source": [
    "{1,2,3}.isdisjoint({4,5,6})"
   ]
  },
  {
   "cell_type": "code",
   "execution_count": 25,
   "id": "b2127590",
   "metadata": {},
   "outputs": [
    {
     "data": {
      "text/plain": [
       "False"
      ]
     },
     "execution_count": 25,
     "metadata": {},
     "output_type": "execute_result"
    }
   ],
   "source": [
    "{1,2,3}.isdisjoint({1,5,6})"
   ]
  },
  {
   "cell_type": "code",
   "execution_count": 26,
   "id": "e55fcd15",
   "metadata": {},
   "outputs": [
    {
     "data": {
      "text/plain": [
       "({4, 5}, {4, 5, 6, 7, 8})"
      ]
     },
     "execution_count": 26,
     "metadata": {},
     "output_type": "execute_result"
    }
   ],
   "source": [
    "number_1,number_2"
   ]
  },
  {
   "cell_type": "code",
   "execution_count": 27,
   "id": "acc0656b",
   "metadata": {},
   "outputs": [
    {
     "data": {
      "text/plain": [
       "False"
      ]
     },
     "execution_count": 27,
     "metadata": {},
     "output_type": "execute_result"
    }
   ],
   "source": [
    "number_1.isdisjoint(number_2)"
   ]
  },
  {
   "cell_type": "markdown",
   "id": "ffdb449b",
   "metadata": {},
   "source": [
    "# 7. issubset - whether a set is a subset of a larger set"
   ]
  },
  {
   "cell_type": "code",
   "execution_count": 29,
   "id": "fe54bc1f",
   "metadata": {},
   "outputs": [
    {
     "data": {
      "text/plain": [
       "True"
      ]
     },
     "execution_count": 29,
     "metadata": {},
     "output_type": "execute_result"
    }
   ],
   "source": [
    "{10,20}.issubset({10,20,30})"
   ]
  },
  {
   "cell_type": "markdown",
   "id": "d0352ebb",
   "metadata": {},
   "source": [
    "# 8. issuperset - whether a set is a superset of a smaller set"
   ]
  },
  {
   "cell_type": "code",
   "execution_count": 31,
   "id": "825b0c73",
   "metadata": {},
   "outputs": [
    {
     "data": {
      "text/plain": [
       "True"
      ]
     },
     "execution_count": 31,
     "metadata": {},
     "output_type": "execute_result"
    }
   ],
   "source": [
    "{10,20,30}.issuperset({10,20})"
   ]
  },
  {
   "cell_type": "code",
   "execution_count": null,
   "id": "b01d51b3",
   "metadata": {},
   "outputs": [],
   "source": []
  }
 ],
 "metadata": {
  "kernelspec": {
   "display_name": "Python 3 (ipykernel)",
   "language": "python",
   "name": "python3"
  },
  "language_info": {
   "codemirror_mode": {
    "name": "ipython",
    "version": 3
   },
   "file_extension": ".py",
   "mimetype": "text/x-python",
   "name": "python",
   "nbconvert_exporter": "python",
   "pygments_lexer": "ipython3",
   "version": "3.9.12"
  }
 },
 "nbformat": 4,
 "nbformat_minor": 5
}
