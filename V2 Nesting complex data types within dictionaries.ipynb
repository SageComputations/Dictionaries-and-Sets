{
 "cells": [
  {
   "cell_type": "code",
   "execution_count": 1,
   "id": "bc0f16a7",
   "metadata": {},
   "outputs": [],
   "source": [
    "fruit_qty = {}"
   ]
  },
  {
   "cell_type": "code",
   "execution_count": 2,
   "id": "e515241e",
   "metadata": {},
   "outputs": [
    {
     "data": {
      "text/plain": [
       "{}"
      ]
     },
     "execution_count": 2,
     "metadata": {},
     "output_type": "execute_result"
    }
   ],
   "source": [
    "fruit_qty"
   ]
  },
  {
   "cell_type": "code",
   "execution_count": 3,
   "id": "cfee8420",
   "metadata": {},
   "outputs": [],
   "source": [
    "fruit_qty['Banana'] = 50\n",
    "fruit_qty['Apple'] = 80\n",
    "fruit_qty['Apricots'] = 90"
   ]
  },
  {
   "cell_type": "code",
   "execution_count": 4,
   "id": "cb9271fd",
   "metadata": {},
   "outputs": [
    {
     "data": {
      "text/plain": [
       "{'Banana': 50, 'Apple': 80, 'Apricots': 90}"
      ]
     },
     "execution_count": 4,
     "metadata": {},
     "output_type": "execute_result"
    }
   ],
   "source": [
    "fruit_qty"
   ]
  },
  {
   "cell_type": "code",
   "execution_count": 5,
   "id": "408c4a47",
   "metadata": {},
   "outputs": [],
   "source": [
    "fruit_qty['Avocado'] = 100"
   ]
  },
  {
   "cell_type": "code",
   "execution_count": 6,
   "id": "5496917a",
   "metadata": {},
   "outputs": [
    {
     "data": {
      "text/plain": [
       "{'Banana': 50, 'Apple': 80, 'Apricots': 90, 'Avocado': 100}"
      ]
     },
     "execution_count": 6,
     "metadata": {},
     "output_type": "execute_result"
    }
   ],
   "source": [
    "fruit_qty"
   ]
  },
  {
   "cell_type": "code",
   "execution_count": 7,
   "id": "352fde7d",
   "metadata": {},
   "outputs": [
    {
     "data": {
      "text/plain": [
       "90"
      ]
     },
     "execution_count": 7,
     "metadata": {},
     "output_type": "execute_result"
    }
   ],
   "source": [
    "fruit_qty['Apricots']"
   ]
  },
  {
   "cell_type": "code",
   "execution_count": 8,
   "id": "c513ad4e",
   "metadata": {},
   "outputs": [
    {
     "ename": "KeyError",
     "evalue": "'apricots'",
     "output_type": "error",
     "traceback": [
      "\u001b[1;31m---------------------------------------------------------------------------\u001b[0m",
      "\u001b[1;31mKeyError\u001b[0m                                  Traceback (most recent call last)",
      "Input \u001b[1;32mIn [8]\u001b[0m, in \u001b[0;36m<cell line: 1>\u001b[1;34m()\u001b[0m\n\u001b[1;32m----> 1\u001b[0m \u001b[43mfruit_qty\u001b[49m\u001b[43m[\u001b[49m\u001b[38;5;124;43m'\u001b[39;49m\u001b[38;5;124;43mapricots\u001b[39;49m\u001b[38;5;124;43m'\u001b[39;49m\u001b[43m]\u001b[49m\n",
      "\u001b[1;31mKeyError\u001b[0m: 'apricots'"
     ]
    }
   ],
   "source": [
    "fruit_qty['apricots']"
   ]
  },
  {
   "cell_type": "code",
   "execution_count": 9,
   "id": "af30346a",
   "metadata": {},
   "outputs": [
    {
     "ename": "KeyError",
     "evalue": "'Watermelon'",
     "output_type": "error",
     "traceback": [
      "\u001b[1;31m---------------------------------------------------------------------------\u001b[0m",
      "\u001b[1;31mKeyError\u001b[0m                                  Traceback (most recent call last)",
      "Input \u001b[1;32mIn [9]\u001b[0m, in \u001b[0;36m<cell line: 1>\u001b[1;34m()\u001b[0m\n\u001b[1;32m----> 1\u001b[0m \u001b[43mfruit_qty\u001b[49m\u001b[43m[\u001b[49m\u001b[38;5;124;43m'\u001b[39;49m\u001b[38;5;124;43mWatermelon\u001b[39;49m\u001b[38;5;124;43m'\u001b[39;49m\u001b[43m]\u001b[49m\n",
      "\u001b[1;31mKeyError\u001b[0m: 'Watermelon'"
     ]
    }
   ],
   "source": [
    "fruit_qty['Watermelon']"
   ]
  },
  {
   "cell_type": "code",
   "execution_count": 10,
   "id": "207bab98",
   "metadata": {},
   "outputs": [
    {
     "data": {
      "text/plain": [
       "{'Banana': 50, 'Apple': 80, 'Apricots': 90, 'Avocado': 100, 'Watermelon': 10}"
      ]
     },
     "execution_count": 10,
     "metadata": {},
     "output_type": "execute_result"
    }
   ],
   "source": [
    "fruit_qty['Watermelon'] = 10\n",
    "fruit_qty"
   ]
  },
  {
   "cell_type": "code",
   "execution_count": 11,
   "id": "115ff323",
   "metadata": {},
   "outputs": [],
   "source": [
    "fruit_qty_consumed = {'Banana':[40,50,60,70],\n",
    "                     'Apple':[10,40,80,100],\n",
    "                     'Apricot':[100,120,130,140],\n",
    "                     'Avocado':[90,80,70,60]}"
   ]
  },
  {
   "cell_type": "code",
   "execution_count": 12,
   "id": "010532af",
   "metadata": {},
   "outputs": [
    {
     "data": {
      "text/plain": [
       "{'Banana': [40, 50, 60, 70],\n",
       " 'Apple': [10, 40, 80, 100],\n",
       " 'Apricot': [100, 120, 130, 140],\n",
       " 'Avocado': [90, 80, 70, 60]}"
      ]
     },
     "execution_count": 12,
     "metadata": {},
     "output_type": "execute_result"
    }
   ],
   "source": [
    "fruit_qty_consumed"
   ]
  },
  {
   "cell_type": "code",
   "execution_count": 13,
   "id": "aba6b005",
   "metadata": {},
   "outputs": [
    {
     "data": {
      "text/plain": [
       "[10, 40, 80, 100]"
      ]
     },
     "execution_count": 13,
     "metadata": {},
     "output_type": "execute_result"
    }
   ],
   "source": [
    "fruit_qty_consumed['Apple']"
   ]
  },
  {
   "cell_type": "code",
   "execution_count": 14,
   "id": "7c4e55ce",
   "metadata": {},
   "outputs": [
    {
     "data": {
      "text/plain": [
       "40"
      ]
     },
     "execution_count": 14,
     "metadata": {},
     "output_type": "execute_result"
    }
   ],
   "source": [
    "fruit_qty_consumed['Apple'][1]"
   ]
  },
  {
   "cell_type": "code",
   "execution_count": 15,
   "id": "6ada2f87",
   "metadata": {},
   "outputs": [
    {
     "data": {
      "text/plain": [
       "[90, 80, 70, 60]"
      ]
     },
     "execution_count": 15,
     "metadata": {},
     "output_type": "execute_result"
    }
   ],
   "source": [
    "fruit_qty_consumed['Avocado']"
   ]
  },
  {
   "cell_type": "code",
   "execution_count": 16,
   "id": "3cc23e3a",
   "metadata": {},
   "outputs": [],
   "source": [
    "fruit_qty_consumed['Avocado'][3]= 200"
   ]
  },
  {
   "cell_type": "code",
   "execution_count": 17,
   "id": "177800d2",
   "metadata": {},
   "outputs": [
    {
     "data": {
      "text/plain": [
       "[90, 80, 70, 200]"
      ]
     },
     "execution_count": 17,
     "metadata": {},
     "output_type": "execute_result"
    }
   ],
   "source": [
    "fruit_qty_consumed['Avocado']"
   ]
  },
  {
   "cell_type": "code",
   "execution_count": 18,
   "id": "3498d840",
   "metadata": {},
   "outputs": [],
   "source": [
    "fruit_qty_consumed = {\n",
    "    'Apple':{'Fri':60,'Sat':70,'Sun':80},\n",
    "    'Orange':{'Fri':80,'Sat':78,'Sun':68},\n",
    "    'Banana':{'Fri':74,'Sat':89,'Sun':99},\n",
    "    'Apricot':{'Fri':39,'Sat':79,'Sun':86},\n",
    "}"
   ]
  },
  {
   "cell_type": "code",
   "execution_count": 19,
   "id": "ba4b0e32",
   "metadata": {},
   "outputs": [
    {
     "data": {
      "text/plain": [
       "{'Apple': {'Fri': 60, 'Sat': 70, 'Sun': 80},\n",
       " 'Orange': {'Fri': 80, 'Sat': 78, 'Sun': 68},\n",
       " 'Banana': {'Fri': 74, 'Sat': 89, 'Sun': 99},\n",
       " 'Apricot': {'Fri': 39, 'Sat': 79, 'Sun': 86}}"
      ]
     },
     "execution_count": 19,
     "metadata": {},
     "output_type": "execute_result"
    }
   ],
   "source": [
    "fruit_qty_consumed"
   ]
  },
  {
   "cell_type": "code",
   "execution_count": 20,
   "id": "a038d50f",
   "metadata": {},
   "outputs": [
    {
     "data": {
      "text/plain": [
       "{'Fri': 60, 'Sat': 70, 'Sun': 80}"
      ]
     },
     "execution_count": 20,
     "metadata": {},
     "output_type": "execute_result"
    }
   ],
   "source": [
    "fruit_qty_consumed['Apple']"
   ]
  },
  {
   "cell_type": "code",
   "execution_count": 21,
   "id": "9fbe4262",
   "metadata": {},
   "outputs": [
    {
     "data": {
      "text/plain": [
       "80"
      ]
     },
     "execution_count": 21,
     "metadata": {},
     "output_type": "execute_result"
    }
   ],
   "source": [
    "fruit_qty_consumed['Apple']['Sun']"
   ]
  },
  {
   "cell_type": "code",
   "execution_count": 22,
   "id": "886e237e",
   "metadata": {},
   "outputs": [
    {
     "ename": "KeyError",
     "evalue": "'Mon'",
     "output_type": "error",
     "traceback": [
      "\u001b[1;31m---------------------------------------------------------------------------\u001b[0m",
      "\u001b[1;31mKeyError\u001b[0m                                  Traceback (most recent call last)",
      "Input \u001b[1;32mIn [22]\u001b[0m, in \u001b[0;36m<cell line: 1>\u001b[1;34m()\u001b[0m\n\u001b[1;32m----> 1\u001b[0m \u001b[43mfruit_qty_consumed\u001b[49m\u001b[43m[\u001b[49m\u001b[38;5;124;43m'\u001b[39;49m\u001b[38;5;124;43mApple\u001b[39;49m\u001b[38;5;124;43m'\u001b[39;49m\u001b[43m]\u001b[49m\u001b[43m[\u001b[49m\u001b[38;5;124;43m'\u001b[39;49m\u001b[38;5;124;43mMon\u001b[39;49m\u001b[38;5;124;43m'\u001b[39;49m\u001b[43m]\u001b[49m\n",
      "\u001b[1;31mKeyError\u001b[0m: 'Mon'"
     ]
    }
   ],
   "source": [
    "fruit_qty_consumed['Apple']['Mon']"
   ]
  },
  {
   "cell_type": "code",
   "execution_count": null,
   "id": "55f4b148",
   "metadata": {},
   "outputs": [],
   "source": []
  }
 ],
 "metadata": {
  "kernelspec": {
   "display_name": "Python 3 (ipykernel)",
   "language": "python",
   "name": "python3"
  },
  "language_info": {
   "codemirror_mode": {
    "name": "ipython",
    "version": 3
   },
   "file_extension": ".py",
   "mimetype": "text/x-python",
   "name": "python",
   "nbconvert_exporter": "python",
   "pygments_lexer": "ipython3",
   "version": "3.9.12"
  }
 },
 "nbformat": 4,
 "nbformat_minor": 5
}
