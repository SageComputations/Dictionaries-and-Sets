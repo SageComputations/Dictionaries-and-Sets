{
 "cells": [
  {
   "cell_type": "code",
   "execution_count": 1,
   "id": "a603390c",
   "metadata": {},
   "outputs": [
    {
     "data": {
      "text/plain": [
       "['Anand', 29, 'Amit', 16, 'Simran', 22, 'Sakshi', 23]"
      ]
     },
     "execution_count": 1,
     "metadata": {},
     "output_type": "execute_result"
    }
   ],
   "source": [
    "my_list = ['Anand',29,\n",
    "          'Amit',16,\n",
    "          'Simran',22,\n",
    "          'Sakshi',23]\n",
    "\n",
    "my_list"
   ]
  },
  {
   "cell_type": "code",
   "execution_count": 2,
   "id": "88feb5dd",
   "metadata": {},
   "outputs": [
    {
     "data": {
      "text/plain": [
       "29"
      ]
     },
     "execution_count": 2,
     "metadata": {},
     "output_type": "execute_result"
    }
   ],
   "source": [
    "my_list[1]"
   ]
  },
  {
   "cell_type": "code",
   "execution_count": 3,
   "id": "6ef4f1bd",
   "metadata": {},
   "outputs": [
    {
     "data": {
      "text/plain": [
       "('Anand', 29, 'Amit', 16, 'Simran', 22, 'Sakshi', 23)"
      ]
     },
     "execution_count": 3,
     "metadata": {},
     "output_type": "execute_result"
    }
   ],
   "source": [
    "tuple(my_list)"
   ]
  },
  {
   "cell_type": "code",
   "execution_count": 5,
   "id": "31015b3d",
   "metadata": {},
   "outputs": [
    {
     "data": {
      "text/plain": [
       "[['Anand', 29], ['Amit', 16], ['Simran', 22], ['Sakshi', 23]]"
      ]
     },
     "execution_count": 5,
     "metadata": {},
     "output_type": "execute_result"
    }
   ],
   "source": [
    "my_list1 = [['Anand',29],\n",
    "          ['Amit',16],\n",
    "          ['Simran',22],\n",
    "          ['Sakshi',23]]\n",
    "\n",
    "my_list1"
   ]
  },
  {
   "cell_type": "code",
   "execution_count": 6,
   "id": "7415596f",
   "metadata": {},
   "outputs": [
    {
     "data": {
      "text/plain": [
       "(['Anand', 29], ['Amit', 16], ['Simran', 22], ['Sakshi', 23])"
      ]
     },
     "execution_count": 6,
     "metadata": {},
     "output_type": "execute_result"
    }
   ],
   "source": [
    "tuple(my_list1)"
   ]
  },
  {
   "cell_type": "code",
   "execution_count": 8,
   "id": "997efca7",
   "metadata": {},
   "outputs": [
    {
     "data": {
      "text/plain": [
       "[[1, 'Arnav', 2, 'Divya'], [3, 'Saloni', 4, 'Nitin']]"
      ]
     },
     "execution_count": 8,
     "metadata": {},
     "output_type": "execute_result"
    }
   ],
   "source": [
    "students_list = [[1,'Arnav',2,'Divya'],\n",
    "                [3,'Saloni',4,'Nitin']]\n",
    "\n",
    "students_list"
   ]
  },
  {
   "cell_type": "code",
   "execution_count": 9,
   "id": "fb77832b",
   "metadata": {},
   "outputs": [
    {
     "ename": "ValueError",
     "evalue": "dictionary update sequence element #0 has length 4; 2 is required",
     "output_type": "error",
     "traceback": [
      "\u001b[1;31m---------------------------------------------------------------------------\u001b[0m",
      "\u001b[1;31mValueError\u001b[0m                                Traceback (most recent call last)",
      "Input \u001b[1;32mIn [9]\u001b[0m, in \u001b[0;36m<cell line: 1>\u001b[1;34m()\u001b[0m\n\u001b[1;32m----> 1\u001b[0m \u001b[38;5;28;43mdict\u001b[39;49m\u001b[43m(\u001b[49m\u001b[43mstudents_list\u001b[49m\u001b[43m)\u001b[49m\n",
      "\u001b[1;31mValueError\u001b[0m: dictionary update sequence element #0 has length 4; 2 is required"
     ]
    }
   ],
   "source": [
    "dict(students_list)"
   ]
  },
  {
   "cell_type": "code",
   "execution_count": 10,
   "id": "74dcae2d",
   "metadata": {},
   "outputs": [
    {
     "data": {
      "text/plain": [
       "[[1, 'Arnav'], [2, 'Divya'], [3, 'Saloni'], [4, 'Nitin']]"
      ]
     },
     "execution_count": 10,
     "metadata": {},
     "output_type": "execute_result"
    }
   ],
   "source": [
    "students_list2 = [[1,'Arnav'],[2,'Divya'],\n",
    "                [3,'Saloni'],[4,'Nitin']]\n",
    "\n",
    "students_list2"
   ]
  },
  {
   "cell_type": "code",
   "execution_count": 11,
   "id": "6518d7a8",
   "metadata": {},
   "outputs": [
    {
     "data": {
      "text/plain": [
       "{1: 'Arnav', 2: 'Divya', 3: 'Saloni', 4: 'Nitin'}"
      ]
     },
     "execution_count": 11,
     "metadata": {},
     "output_type": "execute_result"
    }
   ],
   "source": [
    "dict(students_list2)"
   ]
  },
  {
   "cell_type": "code",
   "execution_count": 12,
   "id": "4faea16f",
   "metadata": {},
   "outputs": [
    {
     "data": {
      "text/plain": [
       "[[1, 'Arnav'], [2, 'Divya'], [3, 'Saloni'], [4, 'Nitin', 'Kapil']]"
      ]
     },
     "execution_count": 12,
     "metadata": {},
     "output_type": "execute_result"
    }
   ],
   "source": [
    "students_list3 = [[1,'Arnav'],[2,'Divya'],\n",
    "                [3,'Saloni'],[4,'Nitin','Kapil']]\n",
    "\n",
    "students_list3"
   ]
  },
  {
   "cell_type": "code",
   "execution_count": 13,
   "id": "da6dcb6f",
   "metadata": {},
   "outputs": [
    {
     "ename": "ValueError",
     "evalue": "dictionary update sequence element #3 has length 3; 2 is required",
     "output_type": "error",
     "traceback": [
      "\u001b[1;31m---------------------------------------------------------------------------\u001b[0m",
      "\u001b[1;31mValueError\u001b[0m                                Traceback (most recent call last)",
      "Input \u001b[1;32mIn [13]\u001b[0m, in \u001b[0;36m<cell line: 1>\u001b[1;34m()\u001b[0m\n\u001b[1;32m----> 1\u001b[0m \u001b[38;5;28;43mdict\u001b[39;49m\u001b[43m(\u001b[49m\u001b[43mstudents_list3\u001b[49m\u001b[43m)\u001b[49m\n",
      "\u001b[1;31mValueError\u001b[0m: dictionary update sequence element #3 has length 3; 2 is required"
     ]
    }
   ],
   "source": [
    "dict(students_list3)"
   ]
  },
  {
   "cell_type": "code",
   "execution_count": 15,
   "id": "04ccc8ea",
   "metadata": {},
   "outputs": [
    {
     "data": {
      "text/plain": [
       "[[1, 'Arnav'], [2, 'Divya'], [3, 'Saloni'], [4, ['Nitin', 'Kapil']]]"
      ]
     },
     "execution_count": 15,
     "metadata": {},
     "output_type": "execute_result"
    }
   ],
   "source": [
    "students_list4 = [[1,'Arnav'],[2,'Divya'],\n",
    "                [3,'Saloni'],[4,['Nitin','Kapil']]]\n",
    "\n",
    "students_list4"
   ]
  },
  {
   "cell_type": "code",
   "execution_count": 16,
   "id": "4f6bd31c",
   "metadata": {},
   "outputs": [
    {
     "data": {
      "text/plain": [
       "{1: 'Arnav', 2: 'Divya', 3: 'Saloni', 4: ['Nitin', 'Kapil']}"
      ]
     },
     "execution_count": 16,
     "metadata": {},
     "output_type": "execute_result"
    }
   ],
   "source": [
    "dict(students_list4)"
   ]
  },
  {
   "cell_type": "code",
   "execution_count": 17,
   "id": "4e6e5846",
   "metadata": {},
   "outputs": [],
   "source": [
    "car_matrix = [['Bugatti',400],\n",
    "             ['Ferrari',322],\n",
    "             ['Lamborghini',320]]"
   ]
  },
  {
   "cell_type": "code",
   "execution_count": 18,
   "id": "b5da2909",
   "metadata": {},
   "outputs": [
    {
     "data": {
      "text/plain": [
       "[['Bugatti', 400], ['Ferrari', 322], ['Lamborghini', 320]]"
      ]
     },
     "execution_count": 18,
     "metadata": {},
     "output_type": "execute_result"
    }
   ],
   "source": [
    "car_matrix"
   ]
  },
  {
   "cell_type": "code",
   "execution_count": 19,
   "id": "7486cfb9",
   "metadata": {},
   "outputs": [],
   "source": [
    "car_matrix_dict = dict(car_matrix)"
   ]
  },
  {
   "cell_type": "code",
   "execution_count": 20,
   "id": "76f4fc35",
   "metadata": {},
   "outputs": [
    {
     "data": {
      "text/plain": [
       "{'Bugatti': 400, 'Ferrari': 322, 'Lamborghini': 320}"
      ]
     },
     "execution_count": 20,
     "metadata": {},
     "output_type": "execute_result"
    }
   ],
   "source": [
    "car_matrix_dict"
   ]
  },
  {
   "cell_type": "code",
   "execution_count": 21,
   "id": "81b20cf5",
   "metadata": {},
   "outputs": [
    {
     "data": {
      "text/plain": [
       "['Lamborghini', 320]"
      ]
     },
     "execution_count": 21,
     "metadata": {},
     "output_type": "execute_result"
    }
   ],
   "source": [
    "car_matrix.pop()"
   ]
  },
  {
   "cell_type": "code",
   "execution_count": 22,
   "id": "7c984b99",
   "metadata": {},
   "outputs": [
    {
     "data": {
      "text/plain": [
       "[['Bugatti', 400], ['Ferrari', 322]]"
      ]
     },
     "execution_count": 22,
     "metadata": {},
     "output_type": "execute_result"
    }
   ],
   "source": [
    "car_matrix"
   ]
  },
  {
   "cell_type": "code",
   "execution_count": 23,
   "id": "d9e68fbe",
   "metadata": {},
   "outputs": [
    {
     "data": {
      "text/plain": [
       "322"
      ]
     },
     "execution_count": 23,
     "metadata": {},
     "output_type": "execute_result"
    }
   ],
   "source": [
    "car_matrix[1][1]"
   ]
  },
  {
   "cell_type": "code",
   "execution_count": 24,
   "id": "fd28dc0d",
   "metadata": {},
   "outputs": [],
   "source": [
    "car_matrix.clear()"
   ]
  },
  {
   "cell_type": "code",
   "execution_count": 25,
   "id": "277c89d2",
   "metadata": {},
   "outputs": [
    {
     "data": {
      "text/plain": [
       "[]"
      ]
     },
     "execution_count": 25,
     "metadata": {},
     "output_type": "execute_result"
    }
   ],
   "source": [
    "car_matrix"
   ]
  },
  {
   "cell_type": "code",
   "execution_count": 26,
   "id": "55a63aa5",
   "metadata": {},
   "outputs": [
    {
     "data": {
      "text/plain": [
       "{'Bugatti': 400, 'Ferrari': 322, 'Lamborghini': 320}"
      ]
     },
     "execution_count": 26,
     "metadata": {},
     "output_type": "execute_result"
    }
   ],
   "source": [
    "car_matrix_dict"
   ]
  },
  {
   "cell_type": "code",
   "execution_count": 27,
   "id": "ec7a52e7",
   "metadata": {},
   "outputs": [
    {
     "data": {
      "text/plain": [
       "['Bugatti', 'Ferrari', 'Lamborghini']"
      ]
     },
     "execution_count": 27,
     "metadata": {},
     "output_type": "execute_result"
    }
   ],
   "source": [
    "car_matrix = list(car_matrix_dict)\n",
    "car_matrix"
   ]
  },
  {
   "cell_type": "code",
   "execution_count": 30,
   "id": "0ff2c679",
   "metadata": {},
   "outputs": [
    {
     "data": {
      "text/plain": [
       "[400, 322, 320]"
      ]
     },
     "execution_count": 30,
     "metadata": {},
     "output_type": "execute_result"
    }
   ],
   "source": [
    "car_matrix_speed = list(car_matrix_dict.values())\n",
    "car_matrix_speed"
   ]
  },
  {
   "cell_type": "code",
   "execution_count": null,
   "id": "9b79c344",
   "metadata": {},
   "outputs": [],
   "source": []
  }
 ],
 "metadata": {
  "kernelspec": {
   "display_name": "Python 3 (ipykernel)",
   "language": "python",
   "name": "python3"
  },
  "language_info": {
   "codemirror_mode": {
    "name": "ipython",
    "version": 3
   },
   "file_extension": ".py",
   "mimetype": "text/x-python",
   "name": "python",
   "nbconvert_exporter": "python",
   "pygments_lexer": "ipython3",
   "version": "3.9.12"
  }
 },
 "nbformat": 4,
 "nbformat_minor": 5
}
