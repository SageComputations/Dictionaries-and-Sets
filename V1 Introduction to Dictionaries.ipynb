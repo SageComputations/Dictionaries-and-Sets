{
 "cells": [
  {
   "cell_type": "markdown",
   "id": "4a806545",
   "metadata": {},
   "source": [
    "# Dictionary can be defined as mapping of key value pair"
   ]
  },
  {
   "cell_type": "code",
   "execution_count": 1,
   "id": "706eadd8",
   "metadata": {},
   "outputs": [],
   "source": [
    "empty_dict = {}"
   ]
  },
  {
   "cell_type": "code",
   "execution_count": 2,
   "id": "70d11daa",
   "metadata": {},
   "outputs": [
    {
     "data": {
      "text/plain": [
       "{}"
      ]
     },
     "execution_count": 2,
     "metadata": {},
     "output_type": "execute_result"
    }
   ],
   "source": [
    "empty_dict"
   ]
  },
  {
   "cell_type": "code",
   "execution_count": 4,
   "id": "dba8247e",
   "metadata": {},
   "outputs": [
    {
     "data": {
      "text/plain": [
       "{'Amit': 'KTM Duke',\n",
       " 'Manoj': 'Royal Enfield Bullet',\n",
       " 'Anil': 'Yamaha R15',\n",
       " 'Sahil': 'TVS Apache'}"
      ]
     },
     "execution_count": 4,
     "metadata": {},
     "output_type": "execute_result"
    }
   ],
   "source": [
    "bike_owners = {'Amit' : 'KTM Duke',\n",
    "               'Manoj' : 'Royal Enfield Bullet',\n",
    "               'Anil' : 'Yamaha R15',\n",
    "               'Sahil' : 'TVS Apache'\n",
    "              }\n",
    "\n",
    "bike_owners"
   ]
  },
  {
   "cell_type": "code",
   "execution_count": 5,
   "id": "6e395b53",
   "metadata": {},
   "outputs": [
    {
     "data": {
      "text/plain": [
       "'KTM Duke'"
      ]
     },
     "execution_count": 5,
     "metadata": {},
     "output_type": "execute_result"
    }
   ],
   "source": [
    "bike_owners['Amit']"
   ]
  },
  {
   "cell_type": "code",
   "execution_count": 6,
   "id": "e31bcc15",
   "metadata": {},
   "outputs": [
    {
     "data": {
      "text/plain": [
       "'TVS Apache'"
      ]
     },
     "execution_count": 6,
     "metadata": {},
     "output_type": "execute_result"
    }
   ],
   "source": [
    "bike_owners['Sahil']"
   ]
  },
  {
   "cell_type": "code",
   "execution_count": 7,
   "id": "06185c91",
   "metadata": {},
   "outputs": [
    {
     "ename": "KeyError",
     "evalue": "'Yamaha R15'",
     "output_type": "error",
     "traceback": [
      "\u001b[1;31m---------------------------------------------------------------------------\u001b[0m",
      "\u001b[1;31mKeyError\u001b[0m                                  Traceback (most recent call last)",
      "Input \u001b[1;32mIn [7]\u001b[0m, in \u001b[0;36m<cell line: 1>\u001b[1;34m()\u001b[0m\n\u001b[1;32m----> 1\u001b[0m \u001b[43mbike_owners\u001b[49m\u001b[43m[\u001b[49m\u001b[38;5;124;43m'\u001b[39;49m\u001b[38;5;124;43mYamaha R15\u001b[39;49m\u001b[38;5;124;43m'\u001b[39;49m\u001b[43m]\u001b[49m\n",
      "\u001b[1;31mKeyError\u001b[0m: 'Yamaha R15'"
     ]
    }
   ],
   "source": [
    "bike_owners['Yamaha R15']"
   ]
  },
  {
   "cell_type": "code",
   "execution_count": 10,
   "id": "0738cadd",
   "metadata": {},
   "outputs": [
    {
     "data": {
      "text/plain": [
       "{1: 10, 2: 20, 3: 30}"
      ]
     },
     "execution_count": 10,
     "metadata": {},
     "output_type": "execute_result"
    }
   ],
   "source": [
    "int_dict = {1:10,\n",
    "           2:20,\n",
    "           3:30}\n",
    "\n",
    "int_dict"
   ]
  },
  {
   "cell_type": "code",
   "execution_count": 9,
   "id": "7198e34c",
   "metadata": {},
   "outputs": [
    {
     "data": {
      "text/plain": [
       "30"
      ]
     },
     "execution_count": 9,
     "metadata": {},
     "output_type": "execute_result"
    }
   ],
   "source": [
    "int_dict[3]"
   ]
  },
  {
   "cell_type": "markdown",
   "id": "04f4ee46",
   "metadata": {},
   "source": [
    "# Dictionary keys should be unique -\n",
    "### This is why looking up a value by key is possible"
   ]
  },
  {
   "cell_type": "code",
   "execution_count": 13,
   "id": "b9687c43",
   "metadata": {},
   "outputs": [],
   "source": [
    "int_dict = {1:10,2:20,3:30,4:40,4:50}"
   ]
  },
  {
   "cell_type": "code",
   "execution_count": 14,
   "id": "66a7b13b",
   "metadata": {},
   "outputs": [
    {
     "data": {
      "text/plain": [
       "{1: 10, 2: 20, 3: 30, 4: 50}"
      ]
     },
     "execution_count": 14,
     "metadata": {},
     "output_type": "execute_result"
    }
   ],
   "source": [
    "int_dict #Python will use the last value assigned to a key if the keys are not unique"
   ]
  },
  {
   "cell_type": "code",
   "execution_count": 15,
   "id": "2a056296",
   "metadata": {},
   "outputs": [
    {
     "data": {
      "text/plain": [
       "{'Sunny': 1999, 'Shivam': 1998, 'Amit': 2001}"
      ]
     },
     "execution_count": 15,
     "metadata": {},
     "output_type": "execute_result"
    }
   ],
   "source": [
    "student_details = {'Sunny':1999,\n",
    "                  'Shivam':1998,\n",
    "                  'Amit':2001}\n",
    "\n",
    "student_details"
   ]
  },
  {
   "cell_type": "code",
   "execution_count": 17,
   "id": "b2027d0a",
   "metadata": {},
   "outputs": [
    {
     "data": {
      "text/plain": [
       "dict_keys(['Sunny', 'Shivam', 'Amit'])"
      ]
     },
     "execution_count": 17,
     "metadata": {},
     "output_type": "execute_result"
    }
   ],
   "source": [
    "student_details.keys()"
   ]
  },
  {
   "cell_type": "code",
   "execution_count": 18,
   "id": "731402c2",
   "metadata": {},
   "outputs": [
    {
     "data": {
      "text/plain": [
       "True"
      ]
     },
     "execution_count": 18,
     "metadata": {},
     "output_type": "execute_result"
    }
   ],
   "source": [
    "'Sunny' in student_details.keys()"
   ]
  },
  {
   "cell_type": "code",
   "execution_count": 19,
   "id": "762b5691",
   "metadata": {},
   "outputs": [
    {
     "data": {
      "text/plain": [
       "True"
      ]
     },
     "execution_count": 19,
     "metadata": {},
     "output_type": "execute_result"
    }
   ],
   "source": [
    "'Shivam' in student_details.keys()"
   ]
  },
  {
   "cell_type": "code",
   "execution_count": 20,
   "id": "7320b868",
   "metadata": {},
   "outputs": [
    {
     "data": {
      "text/plain": [
       "False"
      ]
     },
     "execution_count": 20,
     "metadata": {},
     "output_type": "execute_result"
    }
   ],
   "source": [
    "'Anand' in student_details.keys()"
   ]
  },
  {
   "cell_type": "code",
   "execution_count": 21,
   "id": "5f0f0da6",
   "metadata": {},
   "outputs": [
    {
     "data": {
      "text/plain": [
       "dict_values([1999, 1998, 2001])"
      ]
     },
     "execution_count": 21,
     "metadata": {},
     "output_type": "execute_result"
    }
   ],
   "source": [
    "student_details.values()"
   ]
  },
  {
   "cell_type": "code",
   "execution_count": 24,
   "id": "8627862f",
   "metadata": {},
   "outputs": [
    {
     "data": {
      "text/plain": [
       "{True: 'Subscribe',\n",
       " 'Anand': [1, 2, 3],\n",
       " 'Sage Computations': 'Like',\n",
       " 'Comment': True}"
      ]
     },
     "execution_count": 24,
     "metadata": {},
     "output_type": "execute_result"
    }
   ],
   "source": [
    "mixed_dict = {True:'Subscribe',\n",
    "             \"Anand\":[1,2,3],\n",
    "             'Sage Computations' : 'Like',\n",
    "             'Comment':True}\n",
    "\n",
    "mixed_dict"
   ]
  },
  {
   "cell_type": "code",
   "execution_count": 25,
   "id": "06b64ad0",
   "metadata": {},
   "outputs": [
    {
     "data": {
      "text/plain": [
       "[1, 2, 3]"
      ]
     },
     "execution_count": 25,
     "metadata": {},
     "output_type": "execute_result"
    }
   ],
   "source": [
    "mixed_dict['Anand']"
   ]
  },
  {
   "cell_type": "code",
   "execution_count": 26,
   "id": "b4bff59b",
   "metadata": {},
   "outputs": [
    {
     "data": {
      "text/plain": [
       "'Subscribe'"
      ]
     },
     "execution_count": 26,
     "metadata": {},
     "output_type": "execute_result"
    }
   ],
   "source": [
    "mixed_dict[True]"
   ]
  },
  {
   "cell_type": "code",
   "execution_count": 27,
   "id": "9f23812e",
   "metadata": {},
   "outputs": [
    {
     "data": {
      "text/plain": [
       "{'Bike Owner': 'Manoj',\n",
       " 'Bike model': 'Royal Enfield Bullet',\n",
       " 'Bike Price': 230000,\n",
       " 'Engine DIsplacement': 350}"
      ]
     },
     "execution_count": 27,
     "metadata": {},
     "output_type": "execute_result"
    }
   ],
   "source": [
    "bike_details = {'Bike Owner': 'Manoj',\n",
    "               'Bike model': 'Royal Enfield Bullet',\n",
    "               'Bike Price':230000,\n",
    "               'Engine DIsplacement':350}\n",
    "\n",
    "bike_details"
   ]
  },
  {
   "cell_type": "code",
   "execution_count": 28,
   "id": "3f5ea7b6",
   "metadata": {},
   "outputs": [],
   "source": [
    "bike_details['Num_cylinders'] = 3"
   ]
  },
  {
   "cell_type": "code",
   "execution_count": 29,
   "id": "bd31c955",
   "metadata": {},
   "outputs": [
    {
     "data": {
      "text/plain": [
       "{'Bike Owner': 'Manoj',\n",
       " 'Bike model': 'Royal Enfield Bullet',\n",
       " 'Bike Price': 230000,\n",
       " 'Engine DIsplacement': 350,\n",
       " 'Num_cylinders': 3}"
      ]
     },
     "execution_count": 29,
     "metadata": {},
     "output_type": "execute_result"
    }
   ],
   "source": [
    "bike_details"
   ]
  },
  {
   "cell_type": "code",
   "execution_count": 30,
   "id": "5299d3d9",
   "metadata": {},
   "outputs": [
    {
     "data": {
      "text/plain": [
       "{'Bike Owner': 'Manoj',\n",
       " 'Bike model': 'Royal Enfield Bullet',\n",
       " 'Bike Price': 230000,\n",
       " 'Engine DIsplacement': 350,\n",
       " 'Num_cylinders': 3,\n",
       " 'Bike_Price': 240000}"
      ]
     },
     "execution_count": 30,
     "metadata": {},
     "output_type": "execute_result"
    }
   ],
   "source": [
    "bike_details['Bike_Price'] = 240000\n",
    "bike_details"
   ]
  },
  {
   "cell_type": "code",
   "execution_count": 31,
   "id": "0f23ef53",
   "metadata": {},
   "outputs": [
    {
     "data": {
      "text/plain": [
       "240000"
      ]
     },
     "execution_count": 31,
     "metadata": {},
     "output_type": "execute_result"
    }
   ],
   "source": [
    "bike_details.get('Bike_Price')"
   ]
  },
  {
   "cell_type": "code",
   "execution_count": 32,
   "id": "f4edb4ca",
   "metadata": {},
   "outputs": [],
   "source": [
    "del bike_details['Engine DIsplacement']"
   ]
  },
  {
   "cell_type": "code",
   "execution_count": 33,
   "id": "e0c3b693",
   "metadata": {},
   "outputs": [
    {
     "data": {
      "text/plain": [
       "{'Bike Owner': 'Manoj',\n",
       " 'Bike model': 'Royal Enfield Bullet',\n",
       " 'Bike Price': 230000,\n",
       " 'Num_cylinders': 3,\n",
       " 'Bike_Price': 240000}"
      ]
     },
     "execution_count": 33,
     "metadata": {},
     "output_type": "execute_result"
    }
   ],
   "source": [
    "bike_details"
   ]
  },
  {
   "cell_type": "code",
   "execution_count": null,
   "id": "c6bb3f51",
   "metadata": {},
   "outputs": [],
   "source": []
  }
 ],
 "metadata": {
  "kernelspec": {
   "display_name": "Python 3 (ipykernel)",
   "language": "python",
   "name": "python3"
  },
  "language_info": {
   "codemirror_mode": {
    "name": "ipython",
    "version": 3
   },
   "file_extension": ".py",
   "mimetype": "text/x-python",
   "name": "python",
   "nbconvert_exporter": "python",
   "pygments_lexer": "ipython3",
   "version": "3.9.12"
  }
 },
 "nbformat": 4,
 "nbformat_minor": 5
}
