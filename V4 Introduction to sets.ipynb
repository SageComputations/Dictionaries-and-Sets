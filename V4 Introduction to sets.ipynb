{
 "cells": [
  {
   "cell_type": "markdown",
   "id": "c5a19d6d",
   "metadata": {},
   "source": [
    "# Sets are collection of unique elements, conatins no duplicates , and don't have any intrinsic order"
   ]
  },
  {
   "cell_type": "code",
   "execution_count": 1,
   "id": "8b051cb6",
   "metadata": {},
   "outputs": [
    {
     "data": {
      "text/plain": [
       "{'Bones', 'Jones', 'Miller', 'Smith'}"
      ]
     },
     "execution_count": 1,
     "metadata": {},
     "output_type": "execute_result"
    }
   ],
   "source": [
    "set_string = {'Smith','Jones','Miller','Bones'}\n",
    "\n",
    "set_string"
   ]
  },
  {
   "cell_type": "code",
   "execution_count": 2,
   "id": "4f0757ab",
   "metadata": {},
   "outputs": [
    {
     "name": "stdout",
     "output_type": "stream",
     "text": [
      "{'Smith', 'Jones', 'Miller', 'Bones'}\n"
     ]
    }
   ],
   "source": [
    "print(set_string)"
   ]
  },
  {
   "cell_type": "code",
   "execution_count": 3,
   "id": "e44e6b8f",
   "metadata": {},
   "outputs": [],
   "source": [
    "empty_set = set()"
   ]
  },
  {
   "cell_type": "code",
   "execution_count": 4,
   "id": "4cb913fd",
   "metadata": {},
   "outputs": [
    {
     "data": {
      "text/plain": [
       "set()"
      ]
     },
     "execution_count": 4,
     "metadata": {},
     "output_type": "execute_result"
    }
   ],
   "source": [
    "empty_set"
   ]
  },
  {
   "cell_type": "code",
   "execution_count": 5,
   "id": "f41c17c9",
   "metadata": {},
   "outputs": [
    {
     "name": "stdout",
     "output_type": "stream",
     "text": [
      "<class 'set'>\n"
     ]
    }
   ],
   "source": [
    "print(type(empty_set))"
   ]
  },
  {
   "cell_type": "code",
   "execution_count": 6,
   "id": "2c49cd17",
   "metadata": {},
   "outputs": [
    {
     "data": {
      "text/plain": [
       "{5.2, 8, 'Jill', True}"
      ]
     },
     "execution_count": 6,
     "metadata": {},
     "output_type": "execute_result"
    }
   ],
   "source": [
    "mixed_set = {'Jill',5.2,8,True}\n",
    "mixed_set"
   ]
  },
  {
   "cell_type": "markdown",
   "id": "cc600cd8",
   "metadata": {},
   "source": [
    "# Sets can contain tuples"
   ]
  },
  {
   "cell_type": "code",
   "execution_count": 7,
   "id": "4c06de60",
   "metadata": {},
   "outputs": [
    {
     "data": {
      "text/plain": [
       "{(1, 2, 3, 4), 5.2, 8, 'Jill', True}"
      ]
     },
     "execution_count": 7,
     "metadata": {},
     "output_type": "execute_result"
    }
   ],
   "source": [
    "mixed_set1 = {'Jill',5.2,8,True,(1,2,3,4)}\n",
    "\n",
    "mixed_set1"
   ]
  },
  {
   "cell_type": "markdown",
   "id": "5a9f9e7a",
   "metadata": {},
   "source": [
    "# Sets can only contain immutable elements \n",
    "### This is how a set can ensure that its elements are unique"
   ]
  },
  {
   "cell_type": "code",
   "execution_count": 8,
   "id": "9f7089a1",
   "metadata": {},
   "outputs": [
    {
     "ename": "TypeError",
     "evalue": "unhashable type: 'list'",
     "output_type": "error",
     "traceback": [
      "\u001b[1;31m---------------------------------------------------------------------------\u001b[0m",
      "\u001b[1;31mTypeError\u001b[0m                                 Traceback (most recent call last)",
      "Input \u001b[1;32mIn [8]\u001b[0m, in \u001b[0;36m<cell line: 1>\u001b[1;34m()\u001b[0m\n\u001b[1;32m----> 1\u001b[0m mixed_set2 \u001b[38;5;241m=\u001b[39m {\u001b[38;5;124m'\u001b[39m\u001b[38;5;124mJill\u001b[39m\u001b[38;5;124m'\u001b[39m,\u001b[38;5;241m5.2\u001b[39m,\u001b[38;5;241m8\u001b[39m,\u001b[38;5;28;01mTrue\u001b[39;00m,[\u001b[38;5;241m1\u001b[39m,\u001b[38;5;241m2\u001b[39m,\u001b[38;5;241m3\u001b[39m,\u001b[38;5;241m4\u001b[39m]}\n",
      "\u001b[1;31mTypeError\u001b[0m: unhashable type: 'list'"
     ]
    }
   ],
   "source": [
    "mixed_set2 = {'Jill',5.2,8,True,[1,2,3,4]}"
   ]
  },
  {
   "cell_type": "code",
   "execution_count": 9,
   "id": "c2424430",
   "metadata": {},
   "outputs": [
    {
     "ename": "TypeError",
     "evalue": "unhashable type: 'dict'",
     "output_type": "error",
     "traceback": [
      "\u001b[1;31m---------------------------------------------------------------------------\u001b[0m",
      "\u001b[1;31mTypeError\u001b[0m                                 Traceback (most recent call last)",
      "Input \u001b[1;32mIn [9]\u001b[0m, in \u001b[0;36m<cell line: 1>\u001b[1;34m()\u001b[0m\n\u001b[1;32m----> 1\u001b[0m mixed_set2 \u001b[38;5;241m=\u001b[39m {\u001b[38;5;124m'\u001b[39m\u001b[38;5;124mJill\u001b[39m\u001b[38;5;124m'\u001b[39m,\u001b[38;5;241m5.2\u001b[39m,\u001b[38;5;241m8\u001b[39m,\u001b[38;5;28;01mTrue\u001b[39;00m,{\u001b[38;5;124m'\u001b[39m\u001b[38;5;124mJack\u001b[39m\u001b[38;5;124m'\u001b[39m:\u001b[38;5;241m2\u001b[39m}}\n",
      "\u001b[1;31mTypeError\u001b[0m: unhashable type: 'dict'"
     ]
    }
   ],
   "source": [
    "mixed_set2 = {'Jill',5.2,8,True,{'Jack':2}}"
   ]
  },
  {
   "cell_type": "code",
   "execution_count": 10,
   "id": "3e3effe8",
   "metadata": {},
   "outputs": [
    {
     "data": {
      "text/plain": [
       "{'Amit', 'Anil', 'Bill', 'Jenna'}"
      ]
     },
     "execution_count": 10,
     "metadata": {},
     "output_type": "execute_result"
    }
   ],
   "source": [
    "student_set = {'Anil','Amit','Bill','Jenna','Amit'}\n",
    "\n",
    "student_set"
   ]
  },
  {
   "cell_type": "code",
   "execution_count": 11,
   "id": "d88ce67c",
   "metadata": {},
   "outputs": [],
   "source": [
    "set_int = {1,2,3,4,5,6,1,2,3,4}"
   ]
  },
  {
   "cell_type": "code",
   "execution_count": 12,
   "id": "b985f9bf",
   "metadata": {},
   "outputs": [
    {
     "data": {
      "text/plain": [
       "{1, 2, 3, 4, 5, 6}"
      ]
     },
     "execution_count": 12,
     "metadata": {},
     "output_type": "execute_result"
    }
   ],
   "source": [
    "set_int"
   ]
  },
  {
   "cell_type": "code",
   "execution_count": 13,
   "id": "7427cd9b",
   "metadata": {},
   "outputs": [
    {
     "data": {
      "text/plain": [
       "{'Amit', 'Anil', 'Bill', 'Jenna'}"
      ]
     },
     "execution_count": 13,
     "metadata": {},
     "output_type": "execute_result"
    }
   ],
   "source": [
    "student_set"
   ]
  },
  {
   "cell_type": "code",
   "execution_count": 14,
   "id": "4acda858",
   "metadata": {},
   "outputs": [
    {
     "ename": "TypeError",
     "evalue": "'set' object is not subscriptable",
     "output_type": "error",
     "traceback": [
      "\u001b[1;31m---------------------------------------------------------------------------\u001b[0m",
      "\u001b[1;31mTypeError\u001b[0m                                 Traceback (most recent call last)",
      "Input \u001b[1;32mIn [14]\u001b[0m, in \u001b[0;36m<cell line: 1>\u001b[1;34m()\u001b[0m\n\u001b[1;32m----> 1\u001b[0m \u001b[43mstudent_set\u001b[49m\u001b[43m[\u001b[49m\u001b[38;5;241;43m1\u001b[39;49m\u001b[43m]\u001b[49m\n",
      "\u001b[1;31mTypeError\u001b[0m: 'set' object is not subscriptable"
     ]
    }
   ],
   "source": [
    "student_set[1]"
   ]
  },
  {
   "cell_type": "code",
   "execution_count": 16,
   "id": "32bbc366",
   "metadata": {},
   "outputs": [
    {
     "data": {
      "text/plain": [
       "{1, 10, 2, 3, 4, 6, 8, 'a'}"
      ]
     },
     "execution_count": 16,
     "metadata": {},
     "output_type": "execute_result"
    }
   ],
   "source": [
    "set_1 = {1,3,4,8,'a',6,2,10,3,4}\n",
    "\n",
    "set_1"
   ]
  },
  {
   "cell_type": "code",
   "execution_count": 17,
   "id": "d3725946",
   "metadata": {},
   "outputs": [],
   "source": [
    "set_1.add(9)"
   ]
  },
  {
   "cell_type": "code",
   "execution_count": 18,
   "id": "d66126bb",
   "metadata": {},
   "outputs": [
    {
     "data": {
      "text/plain": [
       "{1, 10, 2, 3, 4, 6, 8, 9, 'a'}"
      ]
     },
     "execution_count": 18,
     "metadata": {},
     "output_type": "execute_result"
    }
   ],
   "source": [
    "set_1"
   ]
  },
  {
   "cell_type": "code",
   "execution_count": 19,
   "id": "ef057b6a",
   "metadata": {},
   "outputs": [
    {
     "data": {
      "text/plain": [
       "{1, 10, 2, 3, 4, 6, 8, 9, 9.5, 'a'}"
      ]
     },
     "execution_count": 19,
     "metadata": {},
     "output_type": "execute_result"
    }
   ],
   "source": [
    "set_1.add(9.5)\n",
    "\n",
    "set_1"
   ]
  },
  {
   "cell_type": "code",
   "execution_count": 20,
   "id": "3b6586f0",
   "metadata": {},
   "outputs": [
    {
     "data": {
      "text/plain": [
       "{1, 10, 2, 3, 4, 6, 8, 9, 9.5, 'a'}"
      ]
     },
     "execution_count": 20,
     "metadata": {},
     "output_type": "execute_result"
    }
   ],
   "source": [
    "set_1.add(9.5)\n",
    "\n",
    "set_1"
   ]
  },
  {
   "cell_type": "code",
   "execution_count": 21,
   "id": "b06f8131",
   "metadata": {},
   "outputs": [
    {
     "data": {
      "text/plain": [
       "10"
      ]
     },
     "execution_count": 21,
     "metadata": {},
     "output_type": "execute_result"
    }
   ],
   "source": [
    "len(set_1)"
   ]
  },
  {
   "cell_type": "code",
   "execution_count": 25,
   "id": "d846a728",
   "metadata": {},
   "outputs": [
    {
     "data": {
      "text/plain": [
       "{'Amit', 'Anil', 'Bill', 'Jenna'}"
      ]
     },
     "execution_count": 25,
     "metadata": {},
     "output_type": "execute_result"
    }
   ],
   "source": [
    "student_set"
   ]
  },
  {
   "cell_type": "code",
   "execution_count": 23,
   "id": "001bae61",
   "metadata": {},
   "outputs": [
    {
     "data": {
      "text/plain": [
       "4"
      ]
     },
     "execution_count": 23,
     "metadata": {},
     "output_type": "execute_result"
    }
   ],
   "source": [
    "len(student_set)"
   ]
  },
  {
   "cell_type": "code",
   "execution_count": 24,
   "id": "a034056a",
   "metadata": {},
   "outputs": [
    {
     "data": {
      "text/plain": [
       "'Jenna'"
      ]
     },
     "execution_count": 24,
     "metadata": {},
     "output_type": "execute_result"
    }
   ],
   "source": [
    "max(student_set)"
   ]
  },
  {
   "cell_type": "code",
   "execution_count": 26,
   "id": "585a65c1",
   "metadata": {},
   "outputs": [
    {
     "data": {
      "text/plain": [
       "'Amit'"
      ]
     },
     "execution_count": 26,
     "metadata": {},
     "output_type": "execute_result"
    }
   ],
   "source": [
    "min(student_set)"
   ]
  },
  {
   "cell_type": "code",
   "execution_count": 27,
   "id": "112e266b",
   "metadata": {},
   "outputs": [],
   "source": [
    "student_set.discard('Anil')"
   ]
  },
  {
   "cell_type": "code",
   "execution_count": 28,
   "id": "bcda79bf",
   "metadata": {},
   "outputs": [],
   "source": [
    "student_set.remove('Amit')"
   ]
  },
  {
   "cell_type": "code",
   "execution_count": 29,
   "id": "b83e8bd9",
   "metadata": {},
   "outputs": [
    {
     "data": {
      "text/plain": [
       "{'Bill', 'Jenna'}"
      ]
     },
     "execution_count": 29,
     "metadata": {},
     "output_type": "execute_result"
    }
   ],
   "source": [
    "student_set"
   ]
  },
  {
   "cell_type": "code",
   "execution_count": 30,
   "id": "041dbc04",
   "metadata": {},
   "outputs": [],
   "source": [
    "student_set.discard('Amit')"
   ]
  },
  {
   "cell_type": "code",
   "execution_count": 31,
   "id": "71caa97b",
   "metadata": {},
   "outputs": [
    {
     "ename": "KeyError",
     "evalue": "'Amit'",
     "output_type": "error",
     "traceback": [
      "\u001b[1;31m---------------------------------------------------------------------------\u001b[0m",
      "\u001b[1;31mKeyError\u001b[0m                                  Traceback (most recent call last)",
      "Input \u001b[1;32mIn [31]\u001b[0m, in \u001b[0;36m<cell line: 1>\u001b[1;34m()\u001b[0m\n\u001b[1;32m----> 1\u001b[0m \u001b[43mstudent_set\u001b[49m\u001b[38;5;241;43m.\u001b[39;49m\u001b[43mremove\u001b[49m\u001b[43m(\u001b[49m\u001b[38;5;124;43m'\u001b[39;49m\u001b[38;5;124;43mAmit\u001b[39;49m\u001b[38;5;124;43m'\u001b[39;49m\u001b[43m)\u001b[49m\n",
      "\u001b[1;31mKeyError\u001b[0m: 'Amit'"
     ]
    }
   ],
   "source": [
    "student_set.remove('Amit')"
   ]
  },
  {
   "cell_type": "code",
   "execution_count": 32,
   "id": "50303e45",
   "metadata": {},
   "outputs": [],
   "source": [
    "student_set.clear()"
   ]
  },
  {
   "cell_type": "code",
   "execution_count": 33,
   "id": "6592ebfc",
   "metadata": {},
   "outputs": [
    {
     "data": {
      "text/plain": [
       "set()"
      ]
     },
     "execution_count": 33,
     "metadata": {},
     "output_type": "execute_result"
    }
   ],
   "source": [
    "student_set"
   ]
  },
  {
   "cell_type": "code",
   "execution_count": null,
   "id": "2a1ed637",
   "metadata": {},
   "outputs": [],
   "source": []
  }
 ],
 "metadata": {
  "kernelspec": {
   "display_name": "Python 3 (ipykernel)",
   "language": "python",
   "name": "python3"
  },
  "language_info": {
   "codemirror_mode": {
    "name": "ipython",
    "version": 3
   },
   "file_extension": ".py",
   "mimetype": "text/x-python",
   "name": "python",
   "nbconvert_exporter": "python",
   "pygments_lexer": "ipython3",
   "version": "3.9.12"
  }
 },
 "nbformat": 4,
 "nbformat_minor": 5
}
